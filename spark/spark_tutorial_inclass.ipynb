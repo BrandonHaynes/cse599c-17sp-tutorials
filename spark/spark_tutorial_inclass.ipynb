{
 "cells": [
  {
   "cell_type": "markdown",
   "metadata": {},
   "source": [
    "# RDDs, Dataframes, and Datasets\n",
    "\n",
    "## RDDs\n",
    "\n",
    "Resilient Distributed Datasets (We talked about these!). A new range of API's has been introduced to let people take advantage of Spark's parallel execution framework and fault tolerance without making the same set of mistakes.\n",
    "\n",
    "## Dataframes\n",
    "\n",
    "- RDD's with named *untyped* columns.\n",
    "- Columnar storage\n",
    "  - Similar optimizations for OLAP queries as vertica\n",
    "- Memory Management (Tungsten)\n",
    "  - direct control of data storage in memory\n",
    "    - cpu cache, and read ahead\n",
    "  - largest source of performance increase\n",
    "- avoids java serialization (or other not as slow but still slow serialization)\n",
    "  - Kryo serialization\n",
    "  - compression\n",
    "- no garbage collection overhead\n",
    "- Execution plans (Catalyst Optimizer)\n",
    "  - rule based instead of cost-based optimizer\n",
    "\n",
    "## Datasets\n",
    "\n",
    "adds to Dataframes\n",
    "- compile time safety\n",
    "- API only available through the scala (python has no type safety)\n",
    "\n",
    "Encoders act as liason between JVM object and off-heap memory (the new formats introduced with Tungsten)"
   ]
  },
  {
   "cell_type": "markdown",
   "metadata": {},
   "source": [
    "## Let's load a file\n",
    "\n",
    "1. select 'Tables'\n",
    "2. in new tab, select 'Create Table'\n",
    "3. we could really select anything (from file upload, s3, DBFS, or JDBC) here but for now we will upload the 'mallard.csv' from the vertica demo\n",
    "  (https://s3-us-west-2.amazonaws.com/cse599c-sp17/mallard.csv)\n",
    "4. select preview table\n",
    "5. we can name the table, select our file delimiter, etc.\n",
    "6. retrieve the DBFS path befor\n",
    "7. select 'create table'"
   ]
  },
  {
   "cell_type": "code",
   "execution_count": 3,
   "metadata": {
    "collapsed": true
   },
   "outputs": [],
   "source": [
    "# set file path\n",
    "# mallardFilePath = 'PATH.csv'"
   ]
  },
  {
   "cell_type": "code",
   "execution_count": 4,
   "metadata": {
    "collapsed": true
   },
   "outputs": [],
   "source": [
    "# mallard = sqlContext.read.format(\"com.databricks.spark.csv\").options(header='true', inferschema='true', delimiter=',').load(mallardFilePath)\n",
    "# mallard.count()"
   ]
  },
  {
   "cell_type": "code",
   "execution_count": 5,
   "metadata": {
    "collapsed": true
   },
   "outputs": [],
   "source": [
    "# sortMallard = mallard.sort(\"location-long\")"
   ]
  },
  {
   "cell_type": "code",
   "execution_count": 6,
   "metadata": {
    "collapsed": true
   },
   "outputs": [],
   "source": [
    "# from pyspark.sql.functions import countDistinct, max\n",
    "\n",
    "# countDistinctMallard = mallard.select(\"location-long\", \"location-lat\")\\\n",
    "#   .groupBy(\"location-long\", \"location-lat\")\\\n",
    "#   .agg(countDistinct(\"location-long\").alias('c'))\\\n",
    "#   .agg(max('c'))\n",
    "  \n",
    "# countDistinctMallard.head()"
   ]
  },
  {
   "cell_type": "markdown",
   "metadata": {},
   "source": [
    "# Use Case: On-Time Flight Performance\n",
    "\n",
    "This notebook provides an analysis of On-Time Flight Performance and Departure Delays\n",
    "\n",
    "Source Data: \n",
    "* [OpenFlights: Airport, airline and route data](http://openflights.org/data.html)\n",
    "* [United States Department of Transportation: Bureau of Transportation Statistics (TranStats)](http://www.transtats.bts.gov/DL_SelectFields.asp?Table_ID=236&DB_Short_Name=On-Time)\n",
    " * Note, the data used here was extracted from the US DOT:BTS between 1/1/2014 and 3/31/2014*\n",
    "\n",
    "References:\n",
    "* [GraphFrames User Guide](http://graphframes.github.io/user-guide.html)\n",
    "* [GraphFrames: DataFrame-based Graphs (GitHub)](https://github.com/graphframes/graphframes)\n",
    "* [D3 Airports Example](http://mbostock.github.io/d3/talk/20111116/airports.html)"
   ]
  },
  {
   "cell_type": "markdown",
   "metadata": {},
   "source": [
    "### Preparation\n",
    "Extract the Airports and Departure Delays information from S3 / DBFS"
   ]
  },
  {
   "cell_type": "code",
   "execution_count": 9,
   "metadata": {
    "collapsed": true
   },
   "outputs": [],
   "source": [
    "# Set File Paths\n",
    "tripdelaysFilePath = \"/databricks-datasets/flights/departuredelays.csv\"\n",
    "airportsnaFilePath = \"/databricks-datasets/flights/airport-codes-na.txt\""
   ]
  },
  {
   "cell_type": "code",
   "execution_count": 10,
   "metadata": {
    "collapsed": true
   },
   "outputs": [],
   "source": [
    "# Obtain airports dataset\n",
    "airportsna = sqlContext.read.format(\"com.databricks.spark.csv\").options(header='true', inferschema='true', delimiter='\\t').load(airportsnaFilePath)\n",
    "airportsna.registerTempTable(\"airports_na\")"
   ]
  },
  {
   "cell_type": "code",
   "execution_count": 11,
   "metadata": {
    "collapsed": true
   },
   "outputs": [],
   "source": [
    "# Obtain departure Delays data\n",
    "departureDelays = sqlContext.read.format(\"com.databricks.spark.csv\").options(header='true').load(tripdelaysFilePath)\n",
    "departureDelays.registerTempTable(\"departureDelays\")\n",
    "departureDelays.cache()"
   ]
  },
  {
   "cell_type": "code",
   "execution_count": 12,
   "metadata": {
    "collapsed": true
   },
   "outputs": [],
   "source": [
    "airportsna.printSchema()"
   ]
  },
  {
   "cell_type": "code",
   "execution_count": 13,
   "metadata": {
    "collapsed": true
   },
   "outputs": [],
   "source": [
    "departureDelays.printSchema()"
   ]
  },
  {
   "cell_type": "code",
   "execution_count": 14,
   "metadata": {
    "collapsed": true
   },
   "outputs": [],
   "source": [
    "# offers programatic SQL type commands\n",
    "from pyspark.sql.functions import *\n",
    "sortDelays = departureDelays.sort(\"delay\")\n",
    "sortDelays.head(3)"
   ]
  },
  {
   "cell_type": "code",
   "execution_count": 15,
   "metadata": {
    "collapsed": true
   },
   "outputs": [],
   "source": [
    "# register the DataFrame as a temp table so that we can query it using SQL language\n",
    "departureDelays.registerTempTable(\"depature_delays\")\n",
    "sortDelays_sql = sqlContext.sql(\"SELECT * FROM depature_delays ORDER BY delay\")\n",
    "sortDelays_sql.head(3)"
   ]
  },
  {
   "cell_type": "code",
   "execution_count": 16,
   "metadata": {
    "collapsed": true
   },
   "outputs": [],
   "source": [
    "# We can also do more complex selections\n",
    "longAvgDistByDest = departureDelays.groupBy(\"destination\")\\\n",
    "  .agg(avg(\"distance\").alias(\"avg_dist\"))\\\n",
    "  .where(\"avg_dist > 1000\")\n",
    "longAvgDistByDest.head(3)"
   ]
  },
  {
   "cell_type": "code",
   "execution_count": 17,
   "metadata": {
    "collapsed": true
   },
   "outputs": [],
   "source": [
    "# and again with a declarative command\n",
    "longAvgDistByDest_sql = sqlContext.sql(\"SELECT destination, avg(distance) AS avg_dist FROM depature_delays GROUP BY destination HAVING avg_dist > 1000\")\n",
    "longAvgDistByDest_sql.head(3)"
   ]
  },
  {
   "cell_type": "code",
   "execution_count": 18,
   "metadata": {
    "collapsed": true
   },
   "outputs": [],
   "source": [
    "# we can also use the python fluent API to execute joins\n",
    "from pyspark.sql.functions import col\n",
    "delayedSeaDest = departureDelays.join(airportsna, departureDelays[\"destination\"] == airportsna[\"IATA\"], 'inner')\\\n",
    "  .filter(col(\"origin\") == 'SEA')\\\n",
    "  .groupBy(\"destination\")\\\n",
    "  .agg(avg(\"delay\").alias(\"avg_delay\"))\\\n",
    "  .orderBy(col(\"avg_delay\").desc())\n",
    "delayedSeaDest.head(3)"
   ]
  },
  {
   "cell_type": "code",
   "execution_count": 19,
   "metadata": {
    "collapsed": true
   },
   "outputs": [],
   "source": [
    "# and again with a declarative command\n",
    "airportsna.registerTempTable(\"airports\")\n",
    "delayedSeaDest_sql = sqlContext.sql(\"SELECT destination, avg(delay) AS avg_delay FROM depature_delays, airports WHERE origin = 'SEA' AND destination = IATA GROUP BY destination ORDER BY -avg_delay\")\n",
    "delayedSeaDest_sql.head(3)"
   ]
  },
  {
   "cell_type": "code",
   "execution_count": 20,
   "metadata": {
    "collapsed": true
   },
   "outputs": [],
   "source": [
    "delayedSeaDest.explain()"
   ]
  },
  {
   "cell_type": "code",
   "execution_count": 21,
   "metadata": {
    "collapsed": true
   },
   "outputs": [],
   "source": [
    "delayedSeaDest_sql.explain()"
   ]
  },
  {
   "cell_type": "code",
   "execution_count": 22,
   "metadata": {
    "collapsed": true
   },
   "outputs": [],
   "source": []
  }
 ],
 "metadata": {
  "kernelspec": {
   "display_name": "Python 2",
   "language": "python",
   "name": "python2"
  },
  "language_info": {
   "codemirror_mode": {
    "name": "ipython",
    "version": 2
   },
   "file_extension": ".py",
   "mimetype": "text/x-python",
   "name": "python",
   "nbconvert_exporter": "python",
   "pygments_lexer": "ipython2",
   "version": "2.7.13"
  },
  "name": "Tutorial",
  "notebookId": 3793756809609733
 },
 "nbformat": 4,
 "nbformat_minor": 1
}
