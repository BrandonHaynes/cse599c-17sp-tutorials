{
 "cells": [
  {
   "cell_type": "code",
   "execution_count": 1,
   "metadata": {
    "collapsed": true
   },
   "outputs": [],
   "source": [
    "import tensorflow as tf\n",
    "import time"
   ]
  },
  {
   "cell_type": "code",
   "execution_count": 6,
   "metadata": {
    "collapsed": false,
    "scrolled": true
   },
   "outputs": [
    {
     "name": "stdout",
     "output_type": "stream",
     "text": [
      "Extracting MNIST_data/train-images-idx3-ubyte.gz\n",
      "Extracting MNIST_data/train-labels-idx1-ubyte.gz\n",
      "Extracting MNIST_data/t10k-images-idx3-ubyte.gz\n",
      "Extracting MNIST_data/t10k-labels-idx1-ubyte.gz\n"
     ]
    }
   ],
   "source": [
    "# Download MNIST dataset\n",
    "from tensorflow.examples.tutorials.mnist import input_data\n",
    "mnist = input_data.read_data_sets(\"MNIST_data/\", one_hot=True)"
   ]
  },
  {
   "cell_type": "code",
   "execution_count": 2,
   "metadata": {
    "collapsed": false
   },
   "outputs": [],
   "source": [
    "# Parameters\n",
    "learning_rate = 0.01\n",
    "training_epochs = 40\n",
    "batch_size = 128\n",
    "display_step = 1\n",
    "\n",
    "# Network Parameters\n",
    "n_input = 28*28 # MNIST data input (img shape: 28*28)\n",
    "n_hidden_1 = 14*14 # 1st layer number of features\n",
    "n_hidden_2 = 5*5 # 2nd layer number of features\n",
    "n_classes = 10 # MNIST total classes (0-9 digits)\n",
    "\n",
    "# tf Graph input\n",
    "x = tf.placeholder(\"float\", [None, n_input])\n",
    "y = tf.placeholder(\"float\", [None, n_classes])"
   ]
  },
  {
   "cell_type": "code",
   "execution_count": 3,
   "metadata": {
    "collapsed": true
   },
   "outputs": [],
   "source": [
    "# Model\n",
    "def multilayer_perceptron(x, weights, biases):\n",
    "    # Hidden layer with RELU activation\n",
    "    layer_1 = tf.add(tf.matmul(x, weights['h1']), biases['b1'])\n",
    "    layer_1 = tf.sigmoid(layer_1)\n",
    "    # Hidden layer with RELU activation\n",
    "    layer_2 = tf.add(tf.matmul(layer_1, weights['h2']), biases['b2'])\n",
    "    layer_2 = tf.sigmoid(layer_2)\n",
    "    # Output layer with linear activation\n",
    "    out_layer = tf.matmul(layer_2, weights['out']) + biases['out']\n",
    "    return out_layer"
   ]
  },
  {
   "cell_type": "code",
   "execution_count": 4,
   "metadata": {
    "collapsed": false
   },
   "outputs": [],
   "source": [
    "# Store layers weight & bias\n",
    "weights = {\n",
    "    'h1': tf.Variable(tf.random_normal([n_input, n_hidden_1])),\n",
    "    'h2': tf.Variable(tf.random_normal([n_hidden_1, n_hidden_2])),\n",
    "    'out': tf.Variable(tf.random_normal([n_hidden_2, n_classes]))\n",
    "}\n",
    "biases = {\n",
    "    'b1': tf.Variable(tf.random_normal([n_hidden_1])),\n",
    "    'b2': tf.Variable(tf.random_normal([n_hidden_2])),\n",
    "    'out': tf.Variable(tf.random_normal([n_classes]))\n",
    "}\n",
    "\n",
    "# Construct model\n",
    "pred = multilayer_perceptron(x, weights, biases)\n",
    "\n",
    "# Define loss and optimizer\n",
    "cost = tf.reduce_mean(tf.nn.softmax_cross_entropy_with_logits(logits=pred, labels=y))\n",
    "optimizer = tf.train.AdamOptimizer(learning_rate=learning_rate).minimize(cost)\n",
    "\n",
    "# Initializing the variables\n",
    "init = tf.global_variables_initializer()"
   ]
  },
  {
   "cell_type": "code",
   "execution_count": 7,
   "metadata": {
    "collapsed": false
   },
   "outputs": [
    {
     "name": "stdout",
     "output_type": "stream",
     "text": [
      "Epoch: 0001 cost= 5.317904210\n",
      "Epoch: 0002 cost= 1.797614116\n",
      "Epoch: 0003 cost= 1.681428050\n",
      "Epoch: 0004 cost= 1.540724836\n",
      "Epoch: 0005 cost= 1.387824598\n",
      "Epoch: 0006 cost= 1.290355076\n",
      "Epoch: 0007 cost= 1.158254306\n",
      "Epoch: 0008 cost= 1.026617850\n",
      "Epoch: 0009 cost= 0.859654722\n",
      "Epoch: 0010 cost= 0.667274892\n",
      "Epoch: 0011 cost= 0.515366544\n",
      "Epoch: 0012 cost= 0.380435478\n",
      "Epoch: 0013 cost= 0.292893947\n",
      "Epoch: 0014 cost= 0.249229714\n",
      "Epoch: 0015 cost= 0.210001270\n",
      "Epoch: 0016 cost= 0.175007054\n",
      "Epoch: 0017 cost= 0.158769262\n",
      "Epoch: 0018 cost= 0.138424823\n",
      "Epoch: 0019 cost= 0.130644332\n",
      "Epoch: 0020 cost= 0.131587551\n",
      "Epoch: 0021 cost= 0.116120565\n",
      "Epoch: 0022 cost= 0.107259608\n",
      "Epoch: 0023 cost= 0.092086222\n",
      "Epoch: 0024 cost= 0.085720221\n",
      "Epoch: 0025 cost= 0.101414756\n",
      "Epoch: 0026 cost= 0.084901864\n",
      "Epoch: 0027 cost= 0.080475544\n",
      "Epoch: 0028 cost= 0.073566652\n",
      "Epoch: 0029 cost= 0.078032584\n",
      "Epoch: 0030 cost= 0.066166559\n",
      "Epoch: 0031 cost= 0.074926661\n",
      "Epoch: 0032 cost= 0.076046636\n",
      "Epoch: 0033 cost= 0.059778434\n",
      "Epoch: 0034 cost= 0.055763835\n",
      "Epoch: 0035 cost= 0.053859879\n",
      "Epoch: 0036 cost= 0.061309145\n",
      "Epoch: 0037 cost= 0.049350222\n",
      "Epoch: 0038 cost= 0.062800557\n",
      "Epoch: 0039 cost= 0.058252539\n",
      "Epoch: 0040 cost= 0.050733554\n",
      "Training time: 48.0496649742seconds\n",
      "Accuracy: 0.9633\n"
     ]
    }
   ],
   "source": [
    "# Launch the graph\n",
    "with tf.Session() as sess:\n",
    "    sess.run(init)\n",
    "\n",
    "    # Train model\n",
    "    start_time = time.time()\n",
    "    for epoch in range(training_epochs):\n",
    "        avg_cost = 0.\n",
    "        total_batch = int(mnist.train.num_examples/batch_size)\n",
    "        # Loop over all batches\n",
    "        for i in range(total_batch):\n",
    "            batch_x, batch_y = mnist.train.next_batch(batch_size)\n",
    "            # Run optimization op (backprop) and cost op (to get loss value)\n",
    "            _, c = sess.run([optimizer, cost], feed_dict={x: batch_x,\n",
    "                                                          y: batch_y})\n",
    "            # Compute average loss\n",
    "            avg_cost += c / total_batch\n",
    "        # Display logs per epoch step\n",
    "        if epoch % display_step == 0:\n",
    "            print \"Epoch:\", '%04d' % (epoch+1), \"cost=\", \\\n",
    "                \"{:.9f}\".format(avg_cost)\n",
    "    train_time = time.time() - start_time\n",
    "    print(\"Training time: \" + str(train_time) + \"seconds\")\n",
    "    \n",
    "    # Test model\n",
    "    correct_prediction = tf.equal(tf.argmax(pred, 1), tf.argmax(y, 1))\n",
    "    accuracy = tf.reduce_mean(tf.cast(correct_prediction, \"float\"))\n",
    "    print \"Accuracy:\", accuracy.eval({x: mnist.test.images, y: mnist.test.labels})"
   ]
  }
 ],
 "metadata": {
  "anaconda-cloud": {},
  "kernelspec": {
   "display_name": "Python [default]",
   "language": "python",
   "name": "python2"
  },
  "language_info": {
   "codemirror_mode": {
    "name": "ipython",
    "version": 2
   },
   "file_extension": ".py",
   "mimetype": "text/x-python",
   "name": "python",
   "nbconvert_exporter": "python",
   "pygments_lexer": "ipython2",
   "version": "2.7.12"
  }
 },
 "nbformat": 4,
 "nbformat_minor": 0
}
