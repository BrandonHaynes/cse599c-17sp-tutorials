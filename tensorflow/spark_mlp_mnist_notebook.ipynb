{
 "cells": [
  {
   "cell_type": "code",
   "execution_count": 1,
   "metadata": {
    "collapsed": true
   },
   "outputs": [],
   "source": [
    "from __future__ import print_function\n",
    "\n",
    "from pyspark import SparkContext, SparkConf\n",
    "from pyspark.ml.linalg import DenseVector, VectorUDT\n",
    "from pyspark.sql import SQLContext\n",
    "\n",
    "from pyspark.ml.classification import MultilayerPerceptronClassifier\n",
    "from pyspark.ml.evaluation import MulticlassClassificationEvaluator\n",
    "from pyspark.sql.types import StructType, StructField, StringType, DoubleType, ArrayType\n",
    "\n",
    "import time"
   ]
  },
  {
   "cell_type": "code",
   "execution_count": 2,
   "metadata": {
    "collapsed": true
   },
   "outputs": [],
   "source": [
    "# extract .gz files downloaded from MNIST website\n",
    "!gunzip -k ./MNIST_data/*.gz"
   ]
  },
  {
   "cell_type": "code",
   "execution_count": 3,
   "metadata": {
    "collapsed": false
   },
   "outputs": [],
   "source": [
    "# Transform to csv\n",
    "def convert(imgf, labelf, outf, n):\n",
    "    \n",
    "    f = open(imgf, \"rb\")\n",
    "    o = open(outf, \"w\")\n",
    "    l = open(labelf, \"rb\")\n",
    "\n",
    "    f.read(16)\n",
    "    l.read(8)\n",
    "    images = []\n",
    "\n",
    "    for i in range(n):\n",
    "        image = [ord(l.read(1))]\n",
    "        for j in range(28*28):\n",
    "            image.append(ord(f.read(1)))\n",
    "        images.append(image)\n",
    "\n",
    "    for image in images:\n",
    "        o.write(\",\".join(str(pix) for pix in image)+\"\\n\")\n",
    "    f.close()\n",
    "    o.close()\n",
    "    l.close()\n",
    "\n",
    "convert(\"./MNIST_data/train-images-idx3-ubyte\", \"./MNIST_data/train-labels-idx1-ubyte\",\n",
    "        \"./MNIST_data/mnist_train.csv\", 60000)\n",
    "convert(\"./MNIST_data/t10k-images-idx3-ubyte\", \"./MNIST_data/t10k-labels-idx1-ubyte\",\n",
    "        \"./MNIST_data/mnist_test.csv\", 10000)"
   ]
  },
  {
   "cell_type": "code",
   "execution_count": 4,
   "metadata": {
    "collapsed": true
   },
   "outputs": [],
   "source": [
    "# Data IO\n",
    "def data_frame_from_file(sqlContext, file_name, fraction):\n",
    "    lines = sc.textFile(file_name).sample(False, fraction)\n",
    "    parts = lines.map(lambda l: map(lambda s: int(s), l.split(\",\")))\n",
    "    samples = parts.map(lambda p: (\n",
    "        float(p[0]),\n",
    "        DenseVector(map(lambda el: el / 255.0, p[1:]))\n",
    "    ))\n",
    "\n",
    "    fields = [\n",
    "        StructField(\"label\", DoubleType(), True),\n",
    "        StructField(\"features\", VectorUDT(), True)\n",
    "    ]\n",
    "    schema = StructType(fields)\n",
    "\n",
    "    data = sqlContext.createDataFrame(samples, schema)\n",
    "    return data"
   ]
  },
  {
   "cell_type": "code",
   "execution_count": 5,
   "metadata": {
    "collapsed": false
   },
   "outputs": [],
   "source": [
    "# Spark\n",
    "conf = SparkConf(True)\n",
    "#set memory to 3/4 memory of your machine\n",
    "conf.set(\"spark.executor.memory\", \"12g\")\n",
    "#conf.set(\"master\",\"Local[4]\")\n",
    "\n",
    "sc = SparkContext(\n",
    "    # allow remote login in system setting, and change \"Administrators-MacBook-Pro\" with your computer name\n",
    "    master=\"spark://Administrators-MacBook-Pro.local:7077\",\n",
    "    appName=\"multilayer_perceptron_classification_example\",\n",
    "    conf=conf\n",
    ")\n",
    "\n",
    "sqlContext = SQLContext(sc)"
   ]
  },
  {
   "cell_type": "code",
   "execution_count": 6,
   "metadata": {
    "collapsed": true
   },
   "outputs": [],
   "source": [
    "# Prepare data\n",
    "train = data_frame_from_file(sqlContext, \"./MNIST_data/mnist_train.csv\", 1)\n",
    "test = data_frame_from_file(sqlContext, \"./MNIST_data/mnist_test.csv\", 1)"
   ]
  },
  {
   "cell_type": "code",
   "execution_count": 7,
   "metadata": {
    "collapsed": true
   },
   "outputs": [],
   "source": [
    "# Model\n",
    "layers = [28*28, 14*14, 5*5, 10]\n",
    "#layers = [28*28, 1024, 10]\n",
    "\n",
    "# create the trainer and set its parameters\n",
    "trainer = MultilayerPerceptronClassifier(maxIter=40, layers=layers, blockSize=128, stepSize=0.01, seed=1234)"
   ]
  },
  {
   "cell_type": "code",
   "execution_count": 8,
   "metadata": {
    "collapsed": false
   },
   "outputs": [
    {
     "name": "stdout",
     "output_type": "stream",
     "text": [
      "Training time: 214.66910696seconds\n"
     ]
    }
   ],
   "source": [
    "# Train model\n",
    "start_time = time.time()\n",
    "model = trainer.fit(train)\n",
    "train_time = time.time() - start_time\n",
    "print(\"Training time: \" + str(train_time) + \"seconds\")"
   ]
  },
  {
   "cell_type": "code",
   "execution_count": 9,
   "metadata": {
    "collapsed": false
   },
   "outputs": [],
   "source": [
    "# Test model\n",
    "result = model.transform(test)\n",
    "predictionAndLabels = result.select(\"prediction\", \"label\")\n",
    "evaluator = MulticlassClassificationEvaluator(metricName=\"accuracy\")"
   ]
  },
  {
   "cell_type": "code",
   "execution_count": 10,
   "metadata": {
    "collapsed": false
   },
   "outputs": [
    {
     "name": "stdout",
     "output_type": "stream",
     "text": [
      "+-----+--------------------+----------+\n",
      "|label|            features|prediction|\n",
      "+-----+--------------------+----------+\n",
      "|  7.0|[0.0,0.0,0.0,0.0,...|       7.0|\n",
      "|  2.0|[0.0,0.0,0.0,0.0,...|       2.0|\n",
      "|  1.0|[0.0,0.0,0.0,0.0,...|       1.0|\n",
      "|  0.0|[0.0,0.0,0.0,0.0,...|       0.0|\n",
      "|  4.0|[0.0,0.0,0.0,0.0,...|       4.0|\n",
      "|  1.0|[0.0,0.0,0.0,0.0,...|       1.0|\n",
      "|  4.0|[0.0,0.0,0.0,0.0,...|       4.0|\n",
      "|  9.0|[0.0,0.0,0.0,0.0,...|       9.0|\n",
      "|  5.0|[0.0,0.0,0.0,0.0,...|       5.0|\n",
      "|  9.0|[0.0,0.0,0.0,0.0,...|       9.0|\n",
      "|  0.0|[0.0,0.0,0.0,0.0,...|       0.0|\n",
      "|  6.0|[0.0,0.0,0.0,0.0,...|       6.0|\n",
      "|  9.0|[0.0,0.0,0.0,0.0,...|       9.0|\n",
      "|  0.0|[0.0,0.0,0.0,0.0,...|       0.0|\n",
      "|  1.0|[0.0,0.0,0.0,0.0,...|       1.0|\n",
      "|  5.0|[0.0,0.0,0.0,0.0,...|       5.0|\n",
      "|  9.0|[0.0,0.0,0.0,0.0,...|       9.0|\n",
      "|  7.0|[0.0,0.0,0.0,0.0,...|       7.0|\n",
      "|  3.0|[0.0,0.0,0.0,0.0,...|       3.0|\n",
      "|  4.0|[0.0,0.0,0.0,0.0,...|       4.0|\n",
      "+-----+--------------------+----------+\n",
      "only showing top 20 rows\n",
      "\n"
     ]
    }
   ],
   "source": [
    "result.show()"
   ]
  },
  {
   "cell_type": "code",
   "execution_count": 11,
   "metadata": {
    "collapsed": false
   },
   "outputs": [
    {
     "name": "stdout",
     "output_type": "stream",
     "text": [
      "Accuracy: 0.9676\n"
     ]
    }
   ],
   "source": [
    "print(\"Accuracy: \" + str(evaluator.evaluate(predictionAndLabels)))\n",
    "sc.stop()"
   ]
  }
 ],
 "metadata": {
  "anaconda-cloud": {},
  "kernelspec": {
   "display_name": "Python [default]",
   "language": "python",
   "name": "python2"
  },
  "language_info": {
   "codemirror_mode": {
    "name": "ipython",
    "version": 2
   },
   "file_extension": ".py",
   "mimetype": "text/x-python",
   "name": "python",
   "nbconvert_exporter": "python",
   "pygments_lexer": "ipython2",
   "version": "2.7.12"
  }
 },
 "nbformat": 4,
 "nbformat_minor": 1
}
