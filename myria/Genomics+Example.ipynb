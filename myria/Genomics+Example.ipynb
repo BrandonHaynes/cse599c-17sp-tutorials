{
 "cells": [
  {
   "cell_type": "code",
   "execution_count": null,
   "metadata": {},
   "outputs": [],
   "source": [
    "from myria import *\n",
    "import numpy\n",
    "\n",
    "# Load Myria extensions\n",
    "%load_ext myria\n",
    "\n",
    "# Create Jupyter Connection\n",
    "%connect http://localhost:8753 http://localhost:8080"
   ]
  },
  {
   "cell_type": "code",
   "execution_count": null,
   "metadata": {},
   "outputs": [],
   "source": [
    "%%query\n",
    "T1 = scan(s1_seq);\n",
    "s_sub = select * from T1 limit 100;\n",
    "store(s_sub, s1_seq_sub);"
   ]
  },
  {
   "cell_type": "code",
   "execution_count": null,
   "metadata": {},
   "outputs": [],
   "source": [
    "%%query\n",
    "T2 = scan(s2_seq);\n",
    "s_sub = select * from T2 limit 100;\n",
    "store(s_sub, s2_seq_sub);"
   ]
  },
  {
   "cell_type": "code",
   "execution_count": null,
   "metadata": {},
   "outputs": [],
   "source": [
    "%%query\n",
    "T1 = scan(s1_seq_sub);\n",
    "s = select \"s1\" as sample, ngram(seq, 11) as kmer from T1;\n",
    "s_cnt = select sample, kmer, count(kmer) as cnt from s;\n",
    "store(s_cnt, s1, [kmer]);\n"
   ]
  },
  {
   "cell_type": "code",
   "execution_count": null,
   "metadata": {},
   "outputs": [],
   "source": [
    "%%query\n",
    "T1 = scan(s2_seq_sub);\n",
    "s = select \"s2\" as sample, ngram(seq, 11) as kmer from T1;\n",
    "s_cnt = select sample, kmer, count(kmer) as cnt from s;\n",
    "store(s_cnt, s2, [kmer]);"
   ]
  },
  {
   "cell_type": "code",
   "execution_count": null,
   "metadata": {},
   "outputs": [],
   "source": [
    "%%query\n",
    "s1 = scan(s1);\n",
    "s2 = scan(s2);\n",
    "s1c = select sample, sum(cnt) as sum_cnt from s1;\n",
    "s2c = select sample, sum(cnt) as sum_cnt from s2;\n",
    "store(s1c, s1_cnt);\n",
    "store(s2c, s2_cnt);"
   ]
  },
  {
   "cell_type": "code",
   "execution_count": null,
   "metadata": {},
   "outputs": [],
   "source": [
    "%%query\n",
    "s1 = scan(s1);\n",
    "s2 = scan(s2);\n",
    "s = s1 + s2;\n",
    "s1c = scan(s1_cnt);\n",
    "s2c = scan(s2_cnt);\n",
    "sums = s1c + s2c;\n",
    "sn = select samps.kmer, samps.sample, samps.cnt/sc.sum_cnt as norm_cnt from s samps, sums sc where samps.sample = sc.sample;\n",
    "store(sn, s_norms_cnt, [kmer]);\n"
   ]
  },
  {
   "cell_type": "code",
   "execution_count": null,
   "metadata": {},
   "outputs": [],
   "source": [
    "%%query\n",
    "kmercnts = scan(s_norms_cnt);\n",
    "entropy = select k.sample, 22+sum(k.norm_cnt*log(k.norm_cnt)/log(2)) as entropy from kmercnts k;\n",
    "store(entropy, entropy_combined);\n"
   ]
  },
  {
   "cell_type": "code",
   "execution_count": null,
   "metadata": {},
   "outputs": [],
   "source": [
    "%%query\n",
    "kmers = scan(s_norms_cnt);\n",
    "X = select a.sample as asample, b.sample as bsample,\n",
    "    case when a.norm_cnt < b.norm_cnt then a.norm_cnt else b.norm_cnt end as minv\n",
    "    from kmers a, kmers b\n",
    "    where a.kmer = b.kmer and a.sample < b.sample;\n",
    "Y = select asample, bsample, 1 - sum(minv) as BCdis from X;\n",
    "store(Y, BC_s1_s2);\n"
   ]
  },
  {
   "cell_type": "code",
   "execution_count": null,
   "metadata": {
    "collapsed": true
   },
   "outputs": [],
   "source": []
  }
 ],
 "metadata": {
  "kernelspec": {
   "display_name": "Python 2",
   "language": "python",
   "name": "python2"
  },
  "language_info": {
   "codemirror_mode": {
    "name": "ipython",
    "version": 2
   },
   "file_extension": ".py",
   "mimetype": "text/x-python",
   "name": "python",
   "nbconvert_exporter": "python",
   "pygments_lexer": "ipython2",
   "version": "2.7.6"
  }
 },
 "nbformat": 4,
 "nbformat_minor": 2
}
