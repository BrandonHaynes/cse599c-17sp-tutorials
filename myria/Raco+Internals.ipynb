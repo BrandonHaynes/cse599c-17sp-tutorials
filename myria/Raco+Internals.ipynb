{
 "cells": [
  {
   "cell_type": "code",
   "execution_count": null,
   "metadata": {
    "collapsed": true
   },
   "outputs": [],
   "source": [
    "from myria import *\n",
    "import numpy\n",
    "from raco.backends.myria.connection import MyriaConnection\n",
    "from raco.backends.myria.catalog import MyriaCatalog\n",
    "from raco.backends.myria import MyriaLeftDeepTreeAlgebra\n",
    "from raco.compile import optimize\n",
    "\n",
    "import raco.myrial.interpreter as interpreter\n",
    "import raco.myrial.parser as myrialparser\n",
    "\n",
    "from graphviz import Digraph\n",
    "\n",
    "def graph_to_dot_object(graph, **kwargs):\n",
    "    \"\"\"Graph is expected to be a dict of the form { 'nodes' : list(), 'edges' :\n",
    "    list() }. This function returns a string that will be input to dot.\"\"\"\n",
    "\n",
    "    title = kwargs.get('title', '')\n",
    "    dot = Digraph(comment = title)\n",
    "    for n in graph['nodes']:\n",
    "        dot.node(str(id(n)), n.shortStr().replace(r'\"', r'\\\"'))\n",
    "    for (x,y) in graph['edges']:\n",
    "        dot.edge(str(id(x)), str(id(y)))\n",
    "\n",
    "    return dot\n",
    "\n",
    "def operator_to_dot_object(operator, graph=None, **kwargs):\n",
    "    \"\"\"Operator is expected to be an object of class raco.algebra.Operator\"\"\"\n",
    "    graph = operator.collectGraph(graph)\n",
    "    return graph_to_dot_object(graph, **kwargs)"
   ]
  },
  {
   "cell_type": "code",
   "execution_count": null,
   "metadata": {
    "collapsed": true
   },
   "outputs": [],
   "source": [
    "myrial_code = \"\"\"\n",
    "T1 = scan(TwitterK);\n",
    "T2 = scan(TwitterK);\n",
    "Joined = [from T1, T2\n",
    "          where T1.$1 = T2.$0 and T1.$1 > 100\n",
    "          emit T1.$0 as src, T1.$1 as link, T2.$1 as dst];\n",
    "store(Joined, TwoHopsInTwitter);\n",
    "\"\"\""
   ]
  },
  {
   "cell_type": "markdown",
   "metadata": {},
   "source": [
    "# Parser"
   ]
  },
  {
   "cell_type": "code",
   "execution_count": null,
   "metadata": {
    "collapsed": true
   },
   "outputs": [],
   "source": [
    "parser = myrialparser.Parser()\n",
    "statement_list = parser.parse(myrial_code)\n",
    "statement_list"
   ]
  },
  {
   "cell_type": "markdown",
   "metadata": {},
   "source": [
    "# Statement Processor"
   ]
  },
  {
   "cell_type": "code",
   "execution_count": null,
   "metadata": {
    "collapsed": true
   },
   "outputs": [],
   "source": [
    "conn = MyriaConnection(rest_url='http://localhost:8753', execution_url='http://localhost:8080')\n",
    "myriacatalog = MyriaCatalog(conn)\n",
    "processor = interpreter.StatementProcessor(myriacatalog, True)\n",
    "processor.evaluate(statement_list)"
   ]
  },
  {
   "cell_type": "markdown",
   "metadata": {},
   "source": [
    "# Optimizer"
   ]
  },
  {
   "cell_type": "markdown",
   "metadata": {},
   "source": [
    "## Logical Plan"
   ]
  },
  {
   "cell_type": "code",
   "execution_count": null,
   "metadata": {
    "collapsed": true
   },
   "outputs": [],
   "source": [
    "logical = processor.get_logical_plan()\n",
    "operator_to_dot_object(logical)"
   ]
  },
  {
   "cell_type": "markdown",
   "metadata": {},
   "source": [
    "## Physical Plan"
   ]
  },
  {
   "cell_type": "code",
   "execution_count": null,
   "metadata": {
    "collapsed": true
   },
   "outputs": [],
   "source": [
    "physical_plan = processor.get_physical_plan(target_alg=MyriaLeftDeepTreeAlgebra())\n",
    "operator_to_dot_object(physical_plan)"
   ]
  },
  {
   "cell_type": "markdown",
   "metadata": {},
   "source": [
    "## Submit query to the execution engine"
   ]
  },
  {
   "cell_type": "code",
   "execution_count": null,
   "metadata": {
    "collapsed": true
   },
   "outputs": [],
   "source": [
    "from raco.backends.myria import compile_to_json\n",
    "json_plan = compile_to_json(str(myrial_code), logical, physical_plan)"
   ]
  },
  {
   "cell_type": "code",
   "execution_count": null,
   "metadata": {
    "collapsed": true
   },
   "outputs": [],
   "source": [
    "conn.submit_query(json_plan)"
   ]
  },
  {
   "cell_type": "markdown",
   "metadata": {},
   "source": [
    "## Rules"
   ]
  },
  {
   "cell_type": "code",
   "execution_count": null,
   "metadata": {
    "collapsed": true
   },
   "outputs": [],
   "source": [
    "MyriaLeftDeepTreeAlgebra().opt_rules()"
   ]
  },
  {
   "cell_type": "markdown",
   "metadata": {},
   "source": [
    "## Another example"
   ]
  },
  {
   "cell_type": "code",
   "execution_count": null,
   "metadata": {
    "collapsed": true
   },
   "outputs": [],
   "source": [
    "myrial_code = \"\"\"\n",
    "E = scan(TwitterK);\n",
    "V = select distinct E.$0 from E;\n",
    "CC = [from V emit V.$0 as node_id, V.$0 as component_id];\n",
    "do\n",
    "  new_CC = [from E, CC where E.$0 = CC.$0 emit E.$1, CC.$1] + CC;\n",
    "  new_CC = [from new_CC emit new_CC.$0, MIN(new_CC.$1)];\n",
    "  delta = diff(CC, new_CC);\n",
    "  CC = new_CC;\n",
    "while [from delta emit count(*) > 0];\n",
    "comp = [from CC emit CC.$1 as id, count(CC.$0) as cnt];\n",
    "store(comp, TwitterCC);\n",
    "\"\"\""
   ]
  },
  {
   "cell_type": "code",
   "execution_count": null,
   "metadata": {
    "collapsed": true
   },
   "outputs": [],
   "source": [
    "statement_list = parser.parse(myrial_code)\n",
    "conn = MyriaConnection(rest_url='http://localhost:8753', execution_url='http://localhost:8080')\n",
    "myriacatalog = MyriaCatalog(conn)\n",
    "processor = interpreter.StatementProcessor(myriacatalog, True)\n",
    "processor.evaluate(statement_list)\n",
    "logical = processor.get_logical_plan()\n",
    "physical_plan = processor.get_physical_plan(target_alg=MyriaLeftDeepTreeAlgebra())"
   ]
  },
  {
   "cell_type": "code",
   "execution_count": null,
   "metadata": {
    "collapsed": true
   },
   "outputs": [],
   "source": [
    "operator_to_dot_object(logical)"
   ]
  },
  {
   "cell_type": "code",
   "execution_count": null,
   "metadata": {
    "collapsed": true
   },
   "outputs": [],
   "source": [
    "operator_to_dot_object(physical_plan)"
   ]
  },
  {
   "cell_type": "code",
   "execution_count": null,
   "metadata": {
    "collapsed": true
   },
   "outputs": [],
   "source": [
    "json_plan = compile_to_json(str(myrial_code), logical, physical_plan)\n",
    "conn.submit_query(json_plan)"
   ]
  },
  {
   "cell_type": "code",
   "execution_count": null,
   "metadata": {
    "collapsed": true
   },
   "outputs": [],
   "source": []
  }
 ],
 "metadata": {
  "kernelspec": {
   "display_name": "Python 2",
   "language": "python",
   "name": "python2"
  },
  "language_info": {
   "codemirror_mode": {
    "name": "ipython",
    "version": 2
   },
   "file_extension": ".py",
   "mimetype": "text/x-python",
   "name": "python",
   "nbconvert_exporter": "python",
   "pygments_lexer": "ipython2",
   "version": "2.7.9"
  }
 },
 "nbformat": 4,
 "nbformat_minor": 2
}
