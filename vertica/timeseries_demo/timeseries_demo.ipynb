{
 "cells": [
  {
   "cell_type": "markdown",
   "metadata": {},
   "source": [
    "# Vertica `TIMESERIES` \n",
    "> \"Provides gap-filling and interpolation (GFI) computation, an important component of time series analytics computation.\"\n",
    "\n",
    "## Syntax: \n",
    "```\n",
    "TIMESERIES slice_time AS 'length_and_time_unit_expression' OVER ( \n",
    "... [ window_partition_clause  [ , ... ] ]  \n",
    "... ORDER BY time_expression ) \n",
    "... [ ORDER BY table_column [ , ... ] ]\n",
    "```\n",
    "\n",
    "## 1. Connect to the Database\n",
    "(be sure you have a running Vertica database at `localhost:5433`)"
   ]
  },
  {
   "cell_type": "code",
   "execution_count": 17,
   "metadata": {
    "collapsed": false
   },
   "outputs": [],
   "source": [
    "import vertica_python\n",
    "import pandas as pd\n",
    "import matplotlib.pyplot as plt\n",
    "%matplotlib inline\n",
    "\n",
    "connection_params = {\n",
    "    'host' : 'localhost',\n",
    "    'port' : 5433,\n",
    "    'database' : 'docker',\n",
    "    'user' : 'dbadmin',\n",
    "    'password' : \"\"\n",
    "}\n",
    "\n",
    "connection = vertica_python.connect(**connection_params)\n",
    "cur = connection.cursor()\n"
   ]
  },
  {
   "cell_type": "markdown",
   "metadata": {},
   "source": [
    "## 2. Load the Data into Vertica\n",
    "We're loading a dataset of mallard duck GPS location tracks from a several-month period. The data is accessible from [this link](https://s3-us-west-2.amazonaws.com/cse599c-sp17/mallard.csv). We'll download it here: "
   ]
  },
  {
   "cell_type": "code",
   "execution_count": 18,
   "metadata": {
    "collapsed": false
   },
   "outputs": [
    {
     "name": "stdout",
     "output_type": "stream",
     "text": [
      "mallard.csv\n"
     ]
    },
    {
     "name": "stderr",
     "output_type": "stream",
     "text": [
      "  % Total    % Received % Xferd  Average Speed   Time    Time     Time  Current\n",
      "                                 Dload  Upload   Total   Spent    Left  Speed\n",
      "\r",
      "  0     0    0     0    0     0      0      0 --:--:-- --:--:-- --:--:--     0\r",
      "  0 8479k    0     0    0     0      0      0 --:--:-- --:--:-- --:--:--     0\r",
      "100 8479k  100 8479k    0     0   9.9M      0 --:--:-- --:--:-- --:--:-- 10.0M\n"
     ]
    }
   ],
   "source": [
    "%%bash \n",
    "curl -O https://s3-us-west-2.amazonaws.com/cse599c-sp17/mallard.csv\n",
    "ls mallard.csv"
   ]
  },
  {
   "cell_type": "markdown",
   "metadata": {},
   "source": [
    "I've already written a schema for this file, let's look at it:\n"
   ]
  },
  {
   "cell_type": "code",
   "execution_count": 19,
   "metadata": {
    "collapsed": false
   },
   "outputs": [
    {
     "name": "stdout",
     "output_type": "stream",
     "text": [
      "create table if not exists mallards (\n",
      "\teventId varchar(20) PRIMARY KEY,\n",
      "\tts timestamp,\n",
      "\tlocationLong float,\n",
      "\tlocationLat float);\n",
      "\n"
     ]
    }
   ],
   "source": [
    "%%bash \n",
    "more createMallardsTable.sql"
   ]
  },
  {
   "cell_type": "markdown",
   "metadata": {},
   "source": [
    "We'll run the schema and load the data from the downloaded file."
   ]
  },
  {
   "cell_type": "code",
   "execution_count": 20,
   "metadata": {
    "collapsed": false
   },
   "outputs": [],
   "source": [
    "tablefile = \"createMallardsTable.sql\"\n",
    "with open(tablefile,'r') as createTable:\n",
    "    cur.execute(createTable.read())\n",
    "    \n",
    "mallardfile = \"mallard.csv\"\n",
    "\n",
    "cur = connection.cursor()\n",
    "with open(mallardfile, \"rb\") as f:\n",
    "    cur.copy(\"COPY mallards from stdin PARSER fcsvparser()\", f)"
   ]
  },
  {
   "cell_type": "markdown",
   "metadata": {},
   "source": [
    "And test it out: "
   ]
  },
  {
   "cell_type": "code",
   "execution_count": 24,
   "metadata": {
    "collapsed": false
   },
   "outputs": [
    {
     "name": "stdout",
     "output_type": "stream",
     "text": [
      "[['1122500109', datetime.datetime(2012, 8, 24, 10, 16, 18), 4.723377, 51.876064], ['1122500110', datetime.datetime(2012, 8, 24, 10, 31, 41), 4.723216, 51.876404], ['1122500111', datetime.datetime(2012, 8, 24, 11, 6), 4.722925, 51.877159], ['1122500112', datetime.datetime(2012, 8, 24, 11, 45, 53), 4.72329, 51.876339], ['1122500113', datetime.datetime(2012, 8, 24, 12, 21, 22), 4.72336, 51.876328], ['1122500114', datetime.datetime(2012, 8, 24, 12, 59, 54), 4.723376, 51.876324], ['1122500115', datetime.datetime(2012, 8, 24, 13, 16, 8), 4.723266, 51.876259], ['1122500116', datetime.datetime(2012, 8, 24, 13, 50, 20), 4.723662, 51.876328], ['1122500117', datetime.datetime(2012, 8, 24, 14, 13, 26), 4.72322, 51.876625], ['1122500118', datetime.datetime(2012, 8, 24, 14, 51, 7), 4.723375, 51.876404]]\n"
     ]
    }
   ],
   "source": [
    "cur.execute(\"select * from mallards limit 10\")\n",
    "print(cur.fetchall())"
   ]
  },
  {
   "cell_type": "markdown",
   "metadata": {},
   "source": [
    "## 2. Develop some `TIMESERIES` Queries\n",
    "\n",
    "### Primitives:\n",
    "* `ts_first_value(<column>, '{'const', 'linear'}')` : provides the first value in a timeslice for a given column using the given interpolation strategy.\n",
    "* `ts_last_value(<column>, '{'const', 'linear}')`: same as above but with last value. "
   ]
  },
  {
   "cell_type": "code",
   "execution_count": 27,
   "metadata": {
    "collapsed": false
   },
   "outputs": [
    {
     "data": {
      "text/html": [
       "<div>\n",
       "<table border=\"1\" class=\"dataframe\">\n",
       "  <thead>\n",
       "    <tr style=\"text-align: right;\">\n",
       "      <th></th>\n",
       "      <th>0</th>\n",
       "      <th>1</th>\n",
       "      <th>2</th>\n",
       "    </tr>\n",
       "  </thead>\n",
       "  <tbody>\n",
       "    <tr>\n",
       "      <th>0</th>\n",
       "      <td>2012-08-24 10:05:00</td>\n",
       "      <td>NaN</td>\n",
       "      <td>NaN</td>\n",
       "    </tr>\n",
       "    <tr>\n",
       "      <th>1</th>\n",
       "      <td>2012-08-24 10:05:30</td>\n",
       "      <td>4.724853</td>\n",
       "      <td>51.878796</td>\n",
       "    </tr>\n",
       "    <tr>\n",
       "      <th>2</th>\n",
       "      <td>2012-08-24 10:06:00</td>\n",
       "      <td>4.724853</td>\n",
       "      <td>51.878796</td>\n",
       "    </tr>\n",
       "  </tbody>\n",
       "</table>\n",
       "</div>"
      ],
      "text/plain": [
       "                    0         1          2\n",
       "0 2012-08-24 10:05:00       NaN        NaN\n",
       "1 2012-08-24 10:05:30  4.724853  51.878796\n",
       "2 2012-08-24 10:06:00  4.724853  51.878796"
      ]
     },
     "execution_count": 27,
     "metadata": {},
     "output_type": "execute_result"
    }
   ],
   "source": [
    "cur.execute(\n",
    "    \"select slice_time, ts_first_value(locationLong, 'const'), ts_first_value(locationLat, 'const')\\\n",
    "    from mallards\\\n",
    "    where ts between timestamp '2012-08-24 10:00' and timestamp '2012-08-24 17:00'\\\n",
    "    TIMESERIES slice_time AS '30 seconds' OVER (ORDER BY ts);\"\n",
    ")\n",
    "df_const = pd.DataFrame(cur.fetchall())\n",
    "df_const.head(3)\n"
   ]
  },
  {
   "cell_type": "markdown",
   "metadata": {},
   "source": [
    "It works!"
   ]
  },
  {
   "cell_type": "code",
   "execution_count": 28,
   "metadata": {
    "collapsed": false
   },
   "outputs": [
    {
     "data": {
      "text/html": [
       "<div>\n",
       "<table border=\"1\" class=\"dataframe\">\n",
       "  <thead>\n",
       "    <tr style=\"text-align: right;\">\n",
       "      <th></th>\n",
       "      <th>0</th>\n",
       "      <th>1</th>\n",
       "      <th>2</th>\n",
       "    </tr>\n",
       "  </thead>\n",
       "  <tbody>\n",
       "    <tr>\n",
       "      <th>0</th>\n",
       "      <td>2012-08-24 10:05:00</td>\n",
       "      <td>NaN</td>\n",
       "      <td>NaN</td>\n",
       "    </tr>\n",
       "    <tr>\n",
       "      <th>1</th>\n",
       "      <td>2012-08-24 10:05:30</td>\n",
       "      <td>4.723781</td>\n",
       "      <td>51.878684</td>\n",
       "    </tr>\n",
       "    <tr>\n",
       "      <th>2</th>\n",
       "      <td>2012-08-24 10:06:00</td>\n",
       "      <td>4.719763</td>\n",
       "      <td>51.878265</td>\n",
       "    </tr>\n",
       "  </tbody>\n",
       "</table>\n",
       "</div>"
      ],
      "text/plain": [
       "                    0         1          2\n",
       "0 2012-08-24 10:05:00       NaN        NaN\n",
       "1 2012-08-24 10:05:30  4.723781  51.878684\n",
       "2 2012-08-24 10:06:00  4.719763  51.878265"
      ]
     },
     "execution_count": 28,
     "metadata": {},
     "output_type": "execute_result"
    }
   ],
   "source": [
    "cur.execute(\n",
    "    \"select slice_time, ts_first_value(locationLong, 'linear'), ts_first_value(locationLat, 'linear')\\\n",
    "    from mallards\\\n",
    "    where ts between timestamp '2012-08-24 10:00' and timestamp '2012-08-24 17:00'\\\n",
    "    TIMESERIES slice_time AS '30 seconds' OVER (ORDER BY ts);\"\n",
    ")\n",
    "df_linear = pd.DataFrame(cur.fetchall())\n",
    "df_linear.head(3)"
   ]
  },
  {
   "cell_type": "code",
   "execution_count": null,
   "metadata": {
    "collapsed": false
   },
   "outputs": [],
   "source": [
    "cur.execute(\n",
    "    \"select ts, locationLong, locationLat\\\n",
    "    from mallards\\\n",
    "    where ts between timestamp '2012-08-24 10:00' and timestamp '2012-08-24 17:00'\\\n",
    ")\n",
    "df_actual = pd.DataFrame(cur.fetchall())\n"
   ]
  },
  {
   "cell_type": "code",
   "execution_count": null,
   "metadata": {
    "collapsed": false
   },
   "outputs": [],
   "source": [
    "df_actual"
   ]
  },
  {
   "cell_type": "code",
   "execution_count": null,
   "metadata": {
    "collapsed": false
   },
   "outputs": [],
   "source": [
    "df_const\n"
   ]
  },
  {
   "cell_type": "code",
   "execution_count": null,
   "metadata": {
    "collapsed": false
   },
   "outputs": [],
   "source": [
    "df_linear"
   ]
  },
  {
   "cell_type": "code",
   "execution_count": null,
   "metadata": {
    "collapsed": false,
    "scrolled": true
   },
   "outputs": [],
   "source": [
    "df_linear[1].plot(marker=\".\")\n"
   ]
  },
  {
   "cell_type": "code",
   "execution_count": null,
   "metadata": {
    "collapsed": false,
    "scrolled": true
   },
   "outputs": [],
   "source": [
    "df_const[1].plot(marker=\".\")"
   ]
  },
  {
   "cell_type": "code",
   "execution_count": null,
   "metadata": {
    "collapsed": false
   },
   "outputs": [],
   "source": [
    "df_const[1].plot"
   ]
  },
  {
   "cell_type": "code",
   "execution_count": null,
   "metadata": {
    "collapsed": false
   },
   "outputs": [],
   "source": [
    "plt.plot(df_const[2], df_const[1])"
   ]
  },
  {
   "cell_type": "code",
   "execution_count": null,
   "metadata": {
    "collapsed": false
   },
   "outputs": [],
   "source": [
    "plt.plot(df_linear[2], df_linear[1])"
   ]
  },
  {
   "cell_type": "code",
   "execution_count": null,
   "metadata": {
    "collapsed": true
   },
   "outputs": [],
   "source": []
  },
  {
   "cell_type": "code",
   "execution_count": null,
   "metadata": {
    "collapsed": true
   },
   "outputs": [],
   "source": []
  },
  {
   "cell_type": "code",
   "execution_count": null,
   "metadata": {
    "collapsed": true
   },
   "outputs": [],
   "source": []
  }
 ],
 "metadata": {
  "kernelspec": {
   "display_name": "Python 3",
   "language": "python",
   "name": "python3"
  },
  "language_info": {
   "codemirror_mode": {
    "name": "ipython",
    "version": 3
   },
   "file_extension": ".py",
   "mimetype": "text/x-python",
   "name": "python",
   "nbconvert_exporter": "python",
   "pygments_lexer": "ipython3",
   "version": "3.5.2"
  }
 },
 "nbformat": 4,
 "nbformat_minor": 2
}
